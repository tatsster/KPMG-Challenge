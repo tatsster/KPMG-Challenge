{
 "cells": [
  {
   "cell_type": "code",
   "execution_count": 14,
   "metadata": {},
   "outputs": [],
   "source": [
    "import fitz\n",
    "\n",
    "def highlightWords(fileName, sentences, pageNumber):\n",
    "    doc = fitz.open(fileName)\n",
    "    page = doc[pageNumber]\n",
    "\n",
    "    for sentence in sentences:\n",
    "        sentenceInstances = page.searchFor(sentence)\n",
    "\n",
    "        ### HIGHLIGHT\n",
    "        for inst in sentenceInstances:\n",
    "            highlight = page.addHighlightAnnot(inst)\n",
    "\n",
    "\n",
    "    ### OUTPUT\n",
    "    doc.save(\"output.pdf\", garbage=4, deflate=True, clean=True)\n",
    "    doc.close()"
   ]
  },
  {
   "cell_type": "code",
   "execution_count": 15,
   "metadata": {},
   "outputs": [],
   "source": [
    "sentences = ['Vietnam economy growth hit a multiple year high in 2018,',\n",
    "            'a pinnacle achievement and the highest since 2007',\n",
    "            'By expenditure, final consumption increased 7.17%']\n",
    "highlightWords('A.-Banking-industry.pdf', sentences, 3)"
   ]
  },
  {
   "cell_type": "code",
   "execution_count": null,
   "metadata": {},
   "outputs": [],
   "source": []
  }
 ],
 "metadata": {
  "kernelspec": {
   "display_name": "Python 3",
   "language": "python",
   "name": "python3"
  },
  "language_info": {
   "codemirror_mode": {
    "name": "ipython",
    "version": 3
   },
   "file_extension": ".py",
   "mimetype": "text/x-python",
   "name": "python",
   "nbconvert_exporter": "python",
   "pygments_lexer": "ipython3",
   "version": "3.7.4"
  }
 },
 "nbformat": 4,
 "nbformat_minor": 2
}
